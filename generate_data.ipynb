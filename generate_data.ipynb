{
 "cells": [
  {
   "cell_type": "markdown",
   "id": "9712b289-52c4-4431-afd6-89d2b18d30a2",
   "metadata": {},
   "source": [
    "# Directory diff"
   ]
  },
  {
   "cell_type": "code",
   "execution_count": 3,
   "id": "1b25a76d-4800-45b5-9f02-0101c3579254",
   "metadata": {},
   "outputs": [
    {
     "name": "stdout",
     "output_type": "stream",
     "text": [
      "Collecting lxml\n",
      "  Downloading lxml-5.2.2-cp310-cp310-manylinux_2_28_x86_64.whl.metadata (3.4 kB)\n",
      "Downloading lxml-5.2.2-cp310-cp310-manylinux_2_28_x86_64.whl (5.0 MB)\n",
      "\u001b[2K   \u001b[90m━━━━━━━━━━━━━━━━━━━━━━━━━━━━━━━━━━━━━━━━\u001b[0m \u001b[32m5.0/5.0 MB\u001b[0m \u001b[31m52.4 MB/s\u001b[0m eta \u001b[36m0:00:00\u001b[0m:00:01\u001b[0m00:01\u001b[0m\n",
      "\u001b[?25hInstalling collected packages: lxml\n",
      "Successfully installed lxml-5.2.2\n",
      "\n",
      "\u001b[1m[\u001b[0m\u001b[34;49mnotice\u001b[0m\u001b[1;39;49m]\u001b[0m\u001b[39;49m A new release of pip is available: \u001b[0m\u001b[31;49m24.1.2\u001b[0m\u001b[39;49m -> \u001b[0m\u001b[32;49m24.2\u001b[0m\n",
      "\u001b[1m[\u001b[0m\u001b[34;49mnotice\u001b[0m\u001b[1;39;49m]\u001b[0m\u001b[39;49m To update, run: \u001b[0m\u001b[32;49mpython3 -m pip install --upgrade pip\u001b[0m\n",
      "Note: you may need to restart the kernel to use updated packages.\n"
     ]
    }
   ],
   "source": [
    "%pip install lxml"
   ]
  },
  {
   "cell_type": "markdown",
   "id": "c8d0ba96-e8e8-46f0-9113-48b0a37b84a5",
   "metadata": {
    "editable": true,
    "slideshow": {
     "slide_type": "slide"
    },
    "tags": []
   },
   "source": [
    "## create dummy data"
   ]
  },
  {
   "cell_type": "code",
   "execution_count": 1,
   "id": "18b5f44e-d1c3-4850-9dc4-d69a5d885ebd",
   "metadata": {},
   "outputs": [],
   "source": [
    "import pandas as pd"
   ]
  },
  {
   "cell_type": "code",
   "execution_count": 4,
   "id": "8e9ce8a7-28e2-4a61-89f6-d69640e81cf3",
   "metadata": {},
   "outputs": [],
   "source": [
    "tables=pd.read_html('https://en.wikipedia.org/wiki/ISO_3166-1')"
   ]
  },
  {
   "cell_type": "code",
   "execution_count": 5,
   "id": "5c949a09-4049-4510-88f7-4600ac62bc76",
   "metadata": {},
   "outputs": [
    {
     "name": "stdout",
     "output_type": "stream",
     "text": [
      "/workspaces/utilities\n"
     ]
    }
   ],
   "source": [
    "!pwd"
   ]
  },
  {
   "cell_type": "code",
   "execution_count": 6,
   "id": "8bca210e-afeb-4f60-be71-c6b17296752c",
   "metadata": {
    "editable": true,
    "slideshow": {
     "slide_type": "slide"
    },
    "tags": []
   },
   "outputs": [
    {
     "data": {
      "text/html": [
       "<div>\n",
       "<style scoped>\n",
       "    .dataframe tbody tr th:only-of-type {\n",
       "        vertical-align: middle;\n",
       "    }\n",
       "\n",
       "    .dataframe tbody tr th {\n",
       "        vertical-align: top;\n",
       "    }\n",
       "\n",
       "    .dataframe thead th {\n",
       "        text-align: right;\n",
       "    }\n",
       "</style>\n",
       "<table border=\"1\" class=\"dataframe\">\n",
       "  <thead>\n",
       "    <tr style=\"text-align: right;\">\n",
       "      <th></th>\n",
       "      <th>Short name upper case in ISO 3166</th>\n",
       "      <th>Short name lower case in ISO 3166 Full name</th>\n",
       "      <th>Listed as independent in ISO 3166</th>\n",
       "      <th>Local short name</th>\n",
       "      <th>Dispute</th>\n",
       "      <th>Link to ISO 3166-2</th>\n",
       "    </tr>\n",
       "  </thead>\n",
       "  <tbody>\n",
       "    <tr>\n",
       "      <th>0</th>\n",
       "      <td>AFGHANISTAN</td>\n",
       "      <td>Afghanistanthe Islamic Republic of Afghanistan</td>\n",
       "      <td>Yes[6]</td>\n",
       "      <td>Afghānistān (ps) Afghānistān (fa)</td>\n",
       "      <td>Under the unrecognized government of the Islam...</td>\n",
       "      <td>ISO 3166-2:AF</td>\n",
       "    </tr>\n",
       "    <tr>\n",
       "      <th>1</th>\n",
       "      <td>CHINA</td>\n",
       "      <td>China the People's Republic of China</td>\n",
       "      <td>Yes[7]</td>\n",
       "      <td>Zhongguo (zh)</td>\n",
       "      <td>Disputed sovereignty with Taiwan</td>\n",
       "      <td>ISO 3166-2:CN</td>\n",
       "    </tr>\n",
       "    <tr>\n",
       "      <th>2</th>\n",
       "      <td>CYPRUS</td>\n",
       "      <td>Cyprus the Republic of Cyprus</td>\n",
       "      <td>Yes[8]</td>\n",
       "      <td>Kýpros (el) Kıbrıs (tr)</td>\n",
       "      <td>Disputed sovereignty with Northern Cyprus</td>\n",
       "      <td>ISO 3166-2:CY</td>\n",
       "    </tr>\n",
       "    <tr>\n",
       "      <th>3</th>\n",
       "      <td>FALKLAND ISLANDS (MALVINAS)</td>\n",
       "      <td>Falkland Islands (the) [Malvinas][a]</td>\n",
       "      <td>No[9]</td>\n",
       "      <td>Falkland Islands (the) [Malvinas] (en)</td>\n",
       "      <td>Disputed sovereignty and naming</td>\n",
       "      <td>ISO 3166-2:FK</td>\n",
       "    </tr>\n",
       "    <tr>\n",
       "      <th>4</th>\n",
       "      <td>PALESTINE, STATE OF</td>\n",
       "      <td>Palestine, State of the State of Palestine</td>\n",
       "      <td>No[10]</td>\n",
       "      <td>Dawlat Filasţīn (ar)</td>\n",
       "      <td>Disputed sovereignty</td>\n",
       "      <td>ISO 3166-2:PS</td>\n",
       "    </tr>\n",
       "  </tbody>\n",
       "</table>\n",
       "</div>"
      ],
      "text/plain": [
       "  Short name upper case in ISO 3166  \\\n",
       "0                       AFGHANISTAN   \n",
       "1                             CHINA   \n",
       "2                            CYPRUS   \n",
       "3       FALKLAND ISLANDS (MALVINAS)   \n",
       "4               PALESTINE, STATE OF   \n",
       "\n",
       "      Short name lower case in ISO 3166 Full name  \\\n",
       "0  Afghanistanthe Islamic Republic of Afghanistan   \n",
       "1            China the People's Republic of China   \n",
       "2                   Cyprus the Republic of Cyprus   \n",
       "3            Falkland Islands (the) [Malvinas][a]   \n",
       "4      Palestine, State of the State of Palestine   \n",
       "\n",
       "  Listed as independent in ISO 3166                        Local short name  \\\n",
       "0                            Yes[6]       Afghānistān (ps) Afghānistān (fa)   \n",
       "1                            Yes[7]                           Zhongguo (zh)   \n",
       "2                            Yes[8]                 Kýpros (el) Kıbrıs (tr)   \n",
       "3                             No[9]  Falkland Islands (the) [Malvinas] (en)   \n",
       "4                            No[10]                    Dawlat Filasţīn (ar)   \n",
       "\n",
       "                                             Dispute Link to ISO 3166-2  \n",
       "0  Under the unrecognized government of the Islam...      ISO 3166-2:AF  \n",
       "1                   Disputed sovereignty with Taiwan      ISO 3166-2:CN  \n",
       "2          Disputed sovereignty with Northern Cyprus      ISO 3166-2:CY  \n",
       "3                    Disputed sovereignty and naming      ISO 3166-2:FK  \n",
       "4                               Disputed sovereignty      ISO 3166-2:PS  "
      ]
     },
     "execution_count": 6,
     "metadata": {},
     "output_type": "execute_result"
    }
   ],
   "source": [
    "tables[0].head()"
   ]
  },
  {
   "cell_type": "code",
   "execution_count": 7,
   "id": "b91d5b80-d17d-4b7b-8cff-e504fb5907f4",
   "metadata": {},
   "outputs": [],
   "source": [
    "tables[0].to_csv('dir_diff/dir1/disputed.csv',index=False) \n",
    "tables[0].to_csv('dir_diff/dir2/disputed.csv',index=False) "
   ]
  },
  {
   "cell_type": "code",
   "execution_count": 8,
   "id": "5518e853-d3b3-4822-8f39-505fe1f6631d",
   "metadata": {
    "editable": true,
    "slideshow": {
     "slide_type": "slide"
    },
    "tags": []
   },
   "outputs": [
    {
     "data": {
      "text/html": [
       "<div>\n",
       "<style scoped>\n",
       "    .dataframe tbody tr th:only-of-type {\n",
       "        vertical-align: middle;\n",
       "    }\n",
       "\n",
       "    .dataframe tbody tr th {\n",
       "        vertical-align: top;\n",
       "    }\n",
       "\n",
       "    .dataframe thead th {\n",
       "        text-align: right;\n",
       "    }\n",
       "</style>\n",
       "<table border=\"1\" class=\"dataframe\">\n",
       "  <thead>\n",
       "    <tr style=\"text-align: right;\">\n",
       "      <th></th>\n",
       "      <th>English short name (using title case)</th>\n",
       "      <th>Alpha-2 code</th>\n",
       "      <th>Alpha-3 code</th>\n",
       "      <th>Numeric code</th>\n",
       "      <th>Link to ISO 3166-2</th>\n",
       "      <th>Independent</th>\n",
       "    </tr>\n",
       "  </thead>\n",
       "  <tbody>\n",
       "    <tr>\n",
       "      <th>0</th>\n",
       "      <td>Afghanistan[b]</td>\n",
       "      <td>AF</td>\n",
       "      <td>AFG</td>\n",
       "      <td>4</td>\n",
       "      <td>ISO 3166-2:AF</td>\n",
       "      <td>Yes</td>\n",
       "    </tr>\n",
       "    <tr>\n",
       "      <th>1</th>\n",
       "      <td>Åland Islands</td>\n",
       "      <td>AX</td>\n",
       "      <td>ALA</td>\n",
       "      <td>248</td>\n",
       "      <td>ISO 3166-2:AX</td>\n",
       "      <td>No</td>\n",
       "    </tr>\n",
       "    <tr>\n",
       "      <th>2</th>\n",
       "      <td>Albania</td>\n",
       "      <td>AL</td>\n",
       "      <td>ALB</td>\n",
       "      <td>8</td>\n",
       "      <td>ISO 3166-2:AL</td>\n",
       "      <td>Yes</td>\n",
       "    </tr>\n",
       "    <tr>\n",
       "      <th>3</th>\n",
       "      <td>Algeria</td>\n",
       "      <td>DZ</td>\n",
       "      <td>DZA</td>\n",
       "      <td>12</td>\n",
       "      <td>ISO 3166-2:DZ</td>\n",
       "      <td>Yes</td>\n",
       "    </tr>\n",
       "    <tr>\n",
       "      <th>4</th>\n",
       "      <td>American Samoa</td>\n",
       "      <td>AS</td>\n",
       "      <td>ASM</td>\n",
       "      <td>16</td>\n",
       "      <td>ISO 3166-2:AS</td>\n",
       "      <td>No</td>\n",
       "    </tr>\n",
       "  </tbody>\n",
       "</table>\n",
       "</div>"
      ],
      "text/plain": [
       "  English short name (using title case) Alpha-2 code Alpha-3 code  \\\n",
       "0                        Afghanistan[b]           AF          AFG   \n",
       "1                         Åland Islands           AX          ALA   \n",
       "2                               Albania           AL          ALB   \n",
       "3                               Algeria           DZ          DZA   \n",
       "4                        American Samoa           AS          ASM   \n",
       "\n",
       "   Numeric code Link to ISO 3166-2 Independent  \n",
       "0             4      ISO 3166-2:AF         Yes  \n",
       "1           248      ISO 3166-2:AX          No  \n",
       "2             8      ISO 3166-2:AL         Yes  \n",
       "3            12      ISO 3166-2:DZ         Yes  \n",
       "4            16      ISO 3166-2:AS          No  "
      ]
     },
     "execution_count": 8,
     "metadata": {},
     "output_type": "execute_result"
    }
   ],
   "source": [
    "tables[1].head()"
   ]
  },
  {
   "cell_type": "code",
   "execution_count": 9,
   "id": "286402c1-5049-4bd1-8c57-6aa14d7d8a29",
   "metadata": {},
   "outputs": [],
   "source": [
    "tables[1].to_csv('dir_diff/dir1/name_code.csv',index=False) \n",
    "tables[1].to_csv('dir_diff/dir2/name_code.csv',index=False) \n",
    "tables[1].to_csv('dir_diff/dir2/~name_code.csv',index=False) "
   ]
  },
  {
   "cell_type": "markdown",
   "id": "d40067bb-cdc0-4f7c-9401-aa6ca633f244",
   "metadata": {},
   "source": [
    "create an additional copy of the file in one directory"
   ]
  },
  {
   "cell_type": "code",
   "execution_count": 10,
   "id": "ab304e33-0958-428c-9854-91290ba019f6",
   "metadata": {
    "editable": true,
    "slideshow": {
     "slide_type": "slide"
    },
    "tags": []
   },
   "outputs": [
    {
     "data": {
      "text/html": [
       "<div>\n",
       "<style scoped>\n",
       "    .dataframe tbody tr th:only-of-type {\n",
       "        vertical-align: middle;\n",
       "    }\n",
       "\n",
       "    .dataframe tbody tr th {\n",
       "        vertical-align: top;\n",
       "    }\n",
       "\n",
       "    .dataframe thead th {\n",
       "        text-align: right;\n",
       "    }\n",
       "</style>\n",
       "<table border=\"1\" class=\"dataframe\">\n",
       "  <thead>\n",
       "    <tr style=\"text-align: right;\">\n",
       "      <th></th>\n",
       "      <th>Edition/Newsletter</th>\n",
       "      <th>Date issued</th>\n",
       "      <th>Contents</th>\n",
       "    </tr>\n",
       "  </thead>\n",
       "  <tbody>\n",
       "    <tr>\n",
       "      <th>0</th>\n",
       "      <td>ISO 3166:1974</td>\n",
       "      <td>1974</td>\n",
       "      <td>First edition of ISO 3166</td>\n",
       "    </tr>\n",
       "    <tr>\n",
       "      <th>1</th>\n",
       "      <td>ISO 3166:1981</td>\n",
       "      <td>1981</td>\n",
       "      <td>Second edition of ISO 3166</td>\n",
       "    </tr>\n",
       "    <tr>\n",
       "      <th>2</th>\n",
       "      <td>ISO 3166:1988</td>\n",
       "      <td>1988-08-15</td>\n",
       "      <td>Third edition of ISO 3166</td>\n",
       "    </tr>\n",
       "    <tr>\n",
       "      <th>3</th>\n",
       "      <td>ISO 3166:1994</td>\n",
       "      <td>1994-02-10</td>\n",
       "      <td>Fourth edition of ISO 3166</td>\n",
       "    </tr>\n",
       "    <tr>\n",
       "      <th>4</th>\n",
       "      <td>ISO 3166-1:1997</td>\n",
       "      <td>1997-09-25</td>\n",
       "      <td>First edition of ISO 3166-1 (ISO 3166 expanded...</td>\n",
       "    </tr>\n",
       "  </tbody>\n",
       "</table>\n",
       "</div>"
      ],
      "text/plain": [
       "  Edition/Newsletter Date issued  \\\n",
       "0      ISO 3166:1974        1974   \n",
       "1      ISO 3166:1981        1981   \n",
       "2      ISO 3166:1988  1988-08-15   \n",
       "3      ISO 3166:1994  1994-02-10   \n",
       "4    ISO 3166-1:1997  1997-09-25   \n",
       "\n",
       "                                            Contents  \n",
       "0                          First edition of ISO 3166  \n",
       "1                         Second edition of ISO 3166  \n",
       "2                          Third edition of ISO 3166  \n",
       "3                         Fourth edition of ISO 3166  \n",
       "4  First edition of ISO 3166-1 (ISO 3166 expanded...  "
      ]
     },
     "execution_count": 10,
     "metadata": {},
     "output_type": "execute_result"
    }
   ],
   "source": [
    "tables[2].head()"
   ]
  },
  {
   "cell_type": "code",
   "execution_count": 11,
   "id": "15828758-6635-4183-b3e4-80985ced8653",
   "metadata": {},
   "outputs": [],
   "source": [
    "tables[2].to_csv('dir_diff/dir1/version_control.csv',index=False) \n",
    "tables[2].iloc[2:].to_csv('dir_diff/dir2/version_control.csv',index=False) "
   ]
  },
  {
   "cell_type": "markdown",
   "id": "8b59f799-dca2-4f57-b357-50f533557a8c",
   "metadata": {},
   "source": [
    "create a corrupted copy of the file in one directory"
   ]
  },
  {
   "cell_type": "markdown",
   "id": "cfced4da-f725-46a9-a1ff-687749a5e4ad",
   "metadata": {
    "editable": true,
    "slideshow": {
     "slide_type": "slide"
    },
    "tags": []
   },
   "source": [
    "## Directory listing"
   ]
  },
  {
   "cell_type": "code",
   "execution_count": 10,
   "id": "13c11b8a-8406-4447-b5f4-6a244d99e4f4",
   "metadata": {},
   "outputs": [],
   "source": [
    "!ls -l dir_diff/*/* > diff.txt"
   ]
  },
  {
   "cell_type": "markdown",
   "id": "0e3d43a7-e9c8-46d6-b3a8-212006fc458d",
   "metadata": {},
   "source": [
    "## Directory comparison"
   ]
  },
  {
   "cell_type": "code",
   "execution_count": 17,
   "id": "07c34ba8-ab55-4eba-82c4-38ceb7c7e8bc",
   "metadata": {
    "editable": true,
    "slideshow": {
     "slide_type": ""
    },
    "tags": []
   },
   "outputs": [],
   "source": [
    "list_of_headers=['permissions', 'something','owner','group','size','month','day','time','path']\n",
    "dir_listing=pd.read_csv('diff.txt', sep='\\s+',names=list_of_headers)"
   ]
  },
  {
   "cell_type": "code",
   "execution_count": 18,
   "id": "83ba5ec5-5ef8-466e-974e-d22486820c05",
   "metadata": {
    "editable": true,
    "slideshow": {
     "slide_type": ""
    },
    "tags": []
   },
   "outputs": [],
   "source": [
    "def split_path(df):\n",
    "    return (df\n",
    "    .assign(parent_dir=df\n",
    "            .path\n",
    "            .str.split(pat='/',expand=True)[0],\n",
    "            inner_dir=df\n",
    "            .path\n",
    "            .str.split(pat='/',expand=True)[1],\n",
    "            filename=df\n",
    "            .path\n",
    "            .str.split(pat='/',expand=True)[2]\n",
    "           )\n",
    "\n",
    "    )"
   ]
  },
  {
   "cell_type": "code",
   "execution_count": 19,
   "id": "487812bf-75ae-437d-a8a4-e1e9c4324ee4",
   "metadata": {
    "editable": true,
    "slideshow": {
     "slide_type": "slide"
    },
    "tags": []
   },
   "outputs": [
    {
     "data": {
      "text/html": [
       "<div>\n",
       "<style scoped>\n",
       "    .dataframe tbody tr th:only-of-type {\n",
       "        vertical-align: middle;\n",
       "    }\n",
       "\n",
       "    .dataframe tbody tr th {\n",
       "        vertical-align: top;\n",
       "    }\n",
       "\n",
       "    .dataframe thead th {\n",
       "        text-align: right;\n",
       "    }\n",
       "</style>\n",
       "<table border=\"1\" class=\"dataframe\">\n",
       "  <thead>\n",
       "    <tr style=\"text-align: right;\">\n",
       "      <th></th>\n",
       "      <th>filename</th>\n",
       "      <th>size</th>\n",
       "    </tr>\n",
       "    <tr>\n",
       "      <th>inner_dir</th>\n",
       "      <th></th>\n",
       "      <th></th>\n",
       "    </tr>\n",
       "  </thead>\n",
       "  <tbody>\n",
       "    <tr>\n",
       "      <th>dir1</th>\n",
       "      <td>3</td>\n",
       "      <td>16686</td>\n",
       "    </tr>\n",
       "    <tr>\n",
       "      <th>dir2</th>\n",
       "      <td>4</td>\n",
       "      <td>26986</td>\n",
       "    </tr>\n",
       "  </tbody>\n",
       "</table>\n",
       "</div>"
      ],
      "text/plain": [
       "           filename   size\n",
       "inner_dir                 \n",
       "dir1              3  16686\n",
       "dir2              4  26986"
      ]
     },
     "execution_count": 19,
     "metadata": {},
     "output_type": "execute_result"
    }
   ],
   "source": [
    "dir_listing.pipe(split_path).groupby(['inner_dir']).agg({'filename':'count','size':'sum'})"
   ]
  },
  {
   "cell_type": "markdown",
   "id": "6e60dad2-337b-48a9-901f-30d2044798af",
   "metadata": {
    "editable": true,
    "slideshow": {
     "slide_type": ""
    },
    "tags": []
   },
   "source": [
    "difference in file count and sum of bytes. Go deeper. Identify additional file in dir2, inconsistent file size"
   ]
  },
  {
   "cell_type": "code",
   "execution_count": 20,
   "id": "47e700b4-867e-44f8-8816-cc1a35b377de",
   "metadata": {
    "editable": true,
    "slideshow": {
     "slide_type": ""
    },
    "tags": []
   },
   "outputs": [
    {
     "data": {
      "text/html": [
       "<div>\n",
       "<style scoped>\n",
       "    .dataframe tbody tr th:only-of-type {\n",
       "        vertical-align: middle;\n",
       "    }\n",
       "\n",
       "    .dataframe tbody tr th {\n",
       "        vertical-align: top;\n",
       "    }\n",
       "\n",
       "    .dataframe thead tr th {\n",
       "        text-align: left;\n",
       "    }\n",
       "\n",
       "    .dataframe thead tr:last-of-type th {\n",
       "        text-align: right;\n",
       "    }\n",
       "</style>\n",
       "<table border=\"1\" class=\"dataframe\">\n",
       "  <thead>\n",
       "    <tr>\n",
       "      <th></th>\n",
       "      <th colspan=\"2\" halign=\"left\">filename</th>\n",
       "      <th colspan=\"2\" halign=\"left\">size</th>\n",
       "    </tr>\n",
       "    <tr>\n",
       "      <th>inner_dir</th>\n",
       "      <th>dir1</th>\n",
       "      <th>dir2</th>\n",
       "      <th>dir1</th>\n",
       "      <th>dir2</th>\n",
       "    </tr>\n",
       "    <tr>\n",
       "      <th>filename</th>\n",
       "      <th></th>\n",
       "      <th></th>\n",
       "      <th></th>\n",
       "      <th></th>\n",
       "    </tr>\n",
       "  </thead>\n",
       "  <tbody>\n",
       "    <tr>\n",
       "      <th>disputed.csv</th>\n",
       "      <td>1.0</td>\n",
       "      <td>1.0</td>\n",
       "      <td>1120.0</td>\n",
       "      <td>1120.0</td>\n",
       "    </tr>\n",
       "    <tr>\n",
       "      <th>name_code.csv</th>\n",
       "      <td>1.0</td>\n",
       "      <td>1.0</td>\n",
       "      <td>10391.0</td>\n",
       "      <td>10391.0</td>\n",
       "    </tr>\n",
       "    <tr>\n",
       "      <th>version_control.csv</th>\n",
       "      <td>1.0</td>\n",
       "      <td>1.0</td>\n",
       "      <td>5175.0</td>\n",
       "      <td>5084.0</td>\n",
       "    </tr>\n",
       "    <tr>\n",
       "      <th>~name_code.csv</th>\n",
       "      <td>NaN</td>\n",
       "      <td>1.0</td>\n",
       "      <td>NaN</td>\n",
       "      <td>10391.0</td>\n",
       "    </tr>\n",
       "  </tbody>\n",
       "</table>\n",
       "</div>"
      ],
      "text/plain": [
       "                    filename          size         \n",
       "inner_dir               dir1 dir2     dir1     dir2\n",
       "filename                                           \n",
       "disputed.csv             1.0  1.0   1120.0   1120.0\n",
       "name_code.csv            1.0  1.0  10391.0  10391.0\n",
       "version_control.csv      1.0  1.0   5175.0   5084.0\n",
       "~name_code.csv           NaN  1.0      NaN  10391.0"
      ]
     },
     "execution_count": 20,
     "metadata": {},
     "output_type": "execute_result"
    }
   ],
   "source": [
    "dir_listing.pipe(split_path).groupby(['filename','inner_dir']).agg({'filename':'count','size':'sum'}).unstack()"
   ]
  },
  {
   "cell_type": "code",
   "execution_count": null,
   "id": "26fb4c23-92f3-4e0c-b4bd-9117461039f0",
   "metadata": {
    "editable": true,
    "slideshow": {
     "slide_type": ""
    },
    "tags": []
   },
   "outputs": [],
   "source": []
  }
 ],
 "metadata": {
  "kernelspec": {
   "display_name": "Python 3 (ipykernel)",
   "language": "python",
   "name": "python3"
  },
  "language_info": {
   "codemirror_mode": {
    "name": "ipython",
    "version": 3
   },
   "file_extension": ".py",
   "mimetype": "text/x-python",
   "name": "python",
   "nbconvert_exporter": "python",
   "pygments_lexer": "ipython3",
   "version": "3.10.13"
  }
 },
 "nbformat": 4,
 "nbformat_minor": 5
}
