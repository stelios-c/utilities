{
 "cells": [
  {
   "cell_type": "markdown",
   "id": "9712b289-52c4-4431-afd6-89d2b18d30a2",
   "metadata": {},
   "source": [
    "# Directory diff"
   ]
  },
  {
   "cell_type": "code",
   "execution_count": 3,
   "id": "1b25a76d-4800-45b5-9f02-0101c3579254",
   "metadata": {},
   "outputs": [
    {
     "name": "stdout",
     "output_type": "stream",
     "text": [
      "Collecting lxml\n",
      "  Downloading lxml-5.2.2-cp310-cp310-manylinux_2_28_x86_64.whl.metadata (3.4 kB)\n",
      "Downloading lxml-5.2.2-cp310-cp310-manylinux_2_28_x86_64.whl (5.0 MB)\n",
      "\u001b[2K   \u001b[90m━━━━━━━━━━━━━━━━━━━━━━━━━━━━━━━━━━━━━━━━\u001b[0m \u001b[32m5.0/5.0 MB\u001b[0m \u001b[31m52.4 MB/s\u001b[0m eta \u001b[36m0:00:00\u001b[0m:00:01\u001b[0m00:01\u001b[0m\n",
      "\u001b[?25hInstalling collected packages: lxml\n",
      "Successfully installed lxml-5.2.2\n",
      "\n",
      "\u001b[1m[\u001b[0m\u001b[34;49mnotice\u001b[0m\u001b[1;39;49m]\u001b[0m\u001b[39;49m A new release of pip is available: \u001b[0m\u001b[31;49m24.1.2\u001b[0m\u001b[39;49m -> \u001b[0m\u001b[32;49m24.2\u001b[0m\n",
      "\u001b[1m[\u001b[0m\u001b[34;49mnotice\u001b[0m\u001b[1;39;49m]\u001b[0m\u001b[39;49m To update, run: \u001b[0m\u001b[32;49mpython3 -m pip install --upgrade pip\u001b[0m\n",
      "Note: you may need to restart the kernel to use updated packages.\n"
     ]
    }
   ],
   "source": [
    "%pip install lxml"
   ]
  },
  {
   "cell_type": "markdown",
   "id": "c8d0ba96-e8e8-46f0-9113-48b0a37b84a5",
   "metadata": {},
   "source": [
    "## create dummy data"
   ]
  },
  {
   "cell_type": "code",
   "execution_count": 1,
   "id": "18b5f44e-d1c3-4850-9dc4-d69a5d885ebd",
   "metadata": {},
   "outputs": [],
   "source": [
    "import pandas as pd"
   ]
  },
  {
   "cell_type": "code",
   "execution_count": 2,
   "id": "8e9ce8a7-28e2-4a61-89f6-d69640e81cf3",
   "metadata": {},
   "outputs": [],
   "source": [
    "tables=pd.read_html('https://en.wikipedia.org/wiki/ISO_3166-1')"
   ]
  },
  {
   "cell_type": "code",
   "execution_count": 3,
   "id": "5c949a09-4049-4510-88f7-4600ac62bc76",
   "metadata": {},
   "outputs": [
    {
     "name": "stdout",
     "output_type": "stream",
     "text": [
      "/workspaces/utilities\n"
     ]
    }
   ],
   "source": [
    "!pwd"
   ]
  },
  {
   "cell_type": "code",
   "execution_count": 8,
   "id": "8bca210e-afeb-4f60-be71-c6b17296752c",
   "metadata": {},
   "outputs": [
    {
     "data": {
      "text/html": [
       "<div>\n",
       "<style scoped>\n",
       "    .dataframe tbody tr th:only-of-type {\n",
       "        vertical-align: middle;\n",
       "    }\n",
       "\n",
       "    .dataframe tbody tr th {\n",
       "        vertical-align: top;\n",
       "    }\n",
       "\n",
       "    .dataframe thead th {\n",
       "        text-align: right;\n",
       "    }\n",
       "</style>\n",
       "<table border=\"1\" class=\"dataframe\">\n",
       "  <thead>\n",
       "    <tr style=\"text-align: right;\">\n",
       "      <th></th>\n",
       "      <th>Short name upper case in ISO 3166</th>\n",
       "      <th>Short name lower case in ISO 3166 Full name</th>\n",
       "      <th>Listed as independent in ISO 3166</th>\n",
       "      <th>Local short name</th>\n",
       "      <th>Dispute</th>\n",
       "      <th>Link to ISO 3166-2</th>\n",
       "    </tr>\n",
       "  </thead>\n",
       "  <tbody>\n",
       "    <tr>\n",
       "      <th>0</th>\n",
       "      <td>AFGHANISTAN</td>\n",
       "      <td>Afghanistanthe Islamic Republic of Afghanistan</td>\n",
       "      <td>Yes[6]</td>\n",
       "      <td>Afghānistān (ps) Afghānistān (fa)</td>\n",
       "      <td>Under the unrecognized government of the Islam...</td>\n",
       "      <td>ISO 3166-2:AF</td>\n",
       "    </tr>\n",
       "    <tr>\n",
       "      <th>1</th>\n",
       "      <td>CHINA</td>\n",
       "      <td>China the People's Republic of China</td>\n",
       "      <td>Yes[7]</td>\n",
       "      <td>Zhongguo (zh)</td>\n",
       "      <td>Disputed sovereignty with Taiwan</td>\n",
       "      <td>ISO 3166-2:CN</td>\n",
       "    </tr>\n",
       "    <tr>\n",
       "      <th>2</th>\n",
       "      <td>CYPRUS</td>\n",
       "      <td>Cyprus the Republic of Cyprus</td>\n",
       "      <td>Yes[8]</td>\n",
       "      <td>Kýpros (el) Kıbrıs (tr)</td>\n",
       "      <td>Disputed sovereignty with Northern Cyprus</td>\n",
       "      <td>ISO 3166-2:CY</td>\n",
       "    </tr>\n",
       "    <tr>\n",
       "      <th>3</th>\n",
       "      <td>FALKLAND ISLANDS (MALVINAS)</td>\n",
       "      <td>Falkland Islands (the) [Malvinas][a]</td>\n",
       "      <td>No[9]</td>\n",
       "      <td>Falkland Islands (the) [Malvinas] (en)</td>\n",
       "      <td>Disputed sovereignty and naming</td>\n",
       "      <td>ISO 3166-2:FK</td>\n",
       "    </tr>\n",
       "    <tr>\n",
       "      <th>4</th>\n",
       "      <td>PALESTINE, STATE OF</td>\n",
       "      <td>Palestine, State of the State of Palestine</td>\n",
       "      <td>No[10]</td>\n",
       "      <td>Dawlat Filasţīn (ar)</td>\n",
       "      <td>Disputed sovereignty</td>\n",
       "      <td>ISO 3166-2:PS</td>\n",
       "    </tr>\n",
       "  </tbody>\n",
       "</table>\n",
       "</div>"
      ],
      "text/plain": [
       "  Short name upper case in ISO 3166  \\\n",
       "0                       AFGHANISTAN   \n",
       "1                             CHINA   \n",
       "2                            CYPRUS   \n",
       "3       FALKLAND ISLANDS (MALVINAS)   \n",
       "4               PALESTINE, STATE OF   \n",
       "\n",
       "      Short name lower case in ISO 3166 Full name  \\\n",
       "0  Afghanistanthe Islamic Republic of Afghanistan   \n",
       "1            China the People's Republic of China   \n",
       "2                   Cyprus the Republic of Cyprus   \n",
       "3            Falkland Islands (the) [Malvinas][a]   \n",
       "4      Palestine, State of the State of Palestine   \n",
       "\n",
       "  Listed as independent in ISO 3166                        Local short name  \\\n",
       "0                            Yes[6]       Afghānistān (ps) Afghānistān (fa)   \n",
       "1                            Yes[7]                           Zhongguo (zh)   \n",
       "2                            Yes[8]                 Kýpros (el) Kıbrıs (tr)   \n",
       "3                             No[9]  Falkland Islands (the) [Malvinas] (en)   \n",
       "4                            No[10]                    Dawlat Filasţīn (ar)   \n",
       "\n",
       "                                             Dispute Link to ISO 3166-2  \n",
       "0  Under the unrecognized government of the Islam...      ISO 3166-2:AF  \n",
       "1                   Disputed sovereignty with Taiwan      ISO 3166-2:CN  \n",
       "2          Disputed sovereignty with Northern Cyprus      ISO 3166-2:CY  \n",
       "3                    Disputed sovereignty and naming      ISO 3166-2:FK  \n",
       "4                               Disputed sovereignty      ISO 3166-2:PS  "
      ]
     },
     "execution_count": 8,
     "metadata": {},
     "output_type": "execute_result"
    }
   ],
   "source": [
    "tables[0].head()"
   ]
  },
  {
   "cell_type": "code",
   "execution_count": 4,
   "id": "b91d5b80-d17d-4b7b-8cff-e504fb5907f4",
   "metadata": {},
   "outputs": [],
   "source": [
    "tables[0].to_csv('dir_diff/dir1/disputed.csv',index=False) \n",
    "tables[0].to_csv('dir_diff/dir2/disputed.csv',index=False) "
   ]
  },
  {
   "cell_type": "code",
   "execution_count": 9,
   "id": "5518e853-d3b3-4822-8f39-505fe1f6631d",
   "metadata": {},
   "outputs": [
    {
     "data": {
      "text/html": [
       "<div>\n",
       "<style scoped>\n",
       "    .dataframe tbody tr th:only-of-type {\n",
       "        vertical-align: middle;\n",
       "    }\n",
       "\n",
       "    .dataframe tbody tr th {\n",
       "        vertical-align: top;\n",
       "    }\n",
       "\n",
       "    .dataframe thead th {\n",
       "        text-align: right;\n",
       "    }\n",
       "</style>\n",
       "<table border=\"1\" class=\"dataframe\">\n",
       "  <thead>\n",
       "    <tr style=\"text-align: right;\">\n",
       "      <th></th>\n",
       "      <th>English short name (using title case)</th>\n",
       "      <th>Alpha-2 code</th>\n",
       "      <th>Alpha-3 code</th>\n",
       "      <th>Numeric code</th>\n",
       "      <th>Link to ISO 3166-2</th>\n",
       "      <th>Independent</th>\n",
       "    </tr>\n",
       "  </thead>\n",
       "  <tbody>\n",
       "    <tr>\n",
       "      <th>0</th>\n",
       "      <td>Afghanistan[b]</td>\n",
       "      <td>AF</td>\n",
       "      <td>AFG</td>\n",
       "      <td>4</td>\n",
       "      <td>ISO 3166-2:AF</td>\n",
       "      <td>Yes</td>\n",
       "    </tr>\n",
       "    <tr>\n",
       "      <th>1</th>\n",
       "      <td>Åland Islands</td>\n",
       "      <td>AX</td>\n",
       "      <td>ALA</td>\n",
       "      <td>248</td>\n",
       "      <td>ISO 3166-2:AX</td>\n",
       "      <td>No</td>\n",
       "    </tr>\n",
       "    <tr>\n",
       "      <th>2</th>\n",
       "      <td>Albania</td>\n",
       "      <td>AL</td>\n",
       "      <td>ALB</td>\n",
       "      <td>8</td>\n",
       "      <td>ISO 3166-2:AL</td>\n",
       "      <td>Yes</td>\n",
       "    </tr>\n",
       "    <tr>\n",
       "      <th>3</th>\n",
       "      <td>Algeria</td>\n",
       "      <td>DZ</td>\n",
       "      <td>DZA</td>\n",
       "      <td>12</td>\n",
       "      <td>ISO 3166-2:DZ</td>\n",
       "      <td>Yes</td>\n",
       "    </tr>\n",
       "    <tr>\n",
       "      <th>4</th>\n",
       "      <td>American Samoa</td>\n",
       "      <td>AS</td>\n",
       "      <td>ASM</td>\n",
       "      <td>16</td>\n",
       "      <td>ISO 3166-2:AS</td>\n",
       "      <td>No</td>\n",
       "    </tr>\n",
       "  </tbody>\n",
       "</table>\n",
       "</div>"
      ],
      "text/plain": [
       "  English short name (using title case) Alpha-2 code Alpha-3 code  \\\n",
       "0                        Afghanistan[b]           AF          AFG   \n",
       "1                         Åland Islands           AX          ALA   \n",
       "2                               Albania           AL          ALB   \n",
       "3                               Algeria           DZ          DZA   \n",
       "4                        American Samoa           AS          ASM   \n",
       "\n",
       "   Numeric code Link to ISO 3166-2 Independent  \n",
       "0             4      ISO 3166-2:AF         Yes  \n",
       "1           248      ISO 3166-2:AX          No  \n",
       "2             8      ISO 3166-2:AL         Yes  \n",
       "3            12      ISO 3166-2:DZ         Yes  \n",
       "4            16      ISO 3166-2:AS          No  "
      ]
     },
     "execution_count": 9,
     "metadata": {},
     "output_type": "execute_result"
    }
   ],
   "source": [
    "tables[1].head()"
   ]
  },
  {
   "cell_type": "code",
   "execution_count": 5,
   "id": "286402c1-5049-4bd1-8c57-6aa14d7d8a29",
   "metadata": {},
   "outputs": [],
   "source": [
    "tables[1].to_csv('dir_diff/dir1/name_code.csv',index=False) \n",
    "tables[1].to_csv('dir_diff/dir2/name_code.csv',index=False) \n",
    "tables[1].to_csv('dir_diff/dir2/~name_code.csv',index=False) "
   ]
  },
  {
   "cell_type": "markdown",
   "id": "d40067bb-cdc0-4f7c-9401-aa6ca633f244",
   "metadata": {},
   "source": [
    "create an additional copy of the file in one directory"
   ]
  },
  {
   "cell_type": "code",
   "execution_count": 6,
   "id": "ab304e33-0958-428c-9854-91290ba019f6",
   "metadata": {},
   "outputs": [
    {
     "data": {
      "text/html": [
       "<div>\n",
       "<style scoped>\n",
       "    .dataframe tbody tr th:only-of-type {\n",
       "        vertical-align: middle;\n",
       "    }\n",
       "\n",
       "    .dataframe tbody tr th {\n",
       "        vertical-align: top;\n",
       "    }\n",
       "\n",
       "    .dataframe thead th {\n",
       "        text-align: right;\n",
       "    }\n",
       "</style>\n",
       "<table border=\"1\" class=\"dataframe\">\n",
       "  <thead>\n",
       "    <tr style=\"text-align: right;\">\n",
       "      <th></th>\n",
       "      <th>Edition/Newsletter</th>\n",
       "      <th>Date issued</th>\n",
       "      <th>Contents</th>\n",
       "    </tr>\n",
       "  </thead>\n",
       "  <tbody>\n",
       "    <tr>\n",
       "      <th>0</th>\n",
       "      <td>ISO 3166:1974</td>\n",
       "      <td>1974</td>\n",
       "      <td>First edition of ISO 3166</td>\n",
       "    </tr>\n",
       "    <tr>\n",
       "      <th>1</th>\n",
       "      <td>ISO 3166:1981</td>\n",
       "      <td>1981</td>\n",
       "      <td>Second edition of ISO 3166</td>\n",
       "    </tr>\n",
       "    <tr>\n",
       "      <th>2</th>\n",
       "      <td>ISO 3166:1988</td>\n",
       "      <td>1988-08-15</td>\n",
       "      <td>Third edition of ISO 3166</td>\n",
       "    </tr>\n",
       "    <tr>\n",
       "      <th>3</th>\n",
       "      <td>ISO 3166:1994</td>\n",
       "      <td>1994-02-10</td>\n",
       "      <td>Fourth edition of ISO 3166</td>\n",
       "    </tr>\n",
       "    <tr>\n",
       "      <th>4</th>\n",
       "      <td>ISO 3166-1:1997</td>\n",
       "      <td>1997-09-25</td>\n",
       "      <td>First edition of ISO 3166-1 (ISO 3166 expanded...</td>\n",
       "    </tr>\n",
       "  </tbody>\n",
       "</table>\n",
       "</div>"
      ],
      "text/plain": [
       "  Edition/Newsletter Date issued  \\\n",
       "0      ISO 3166:1974        1974   \n",
       "1      ISO 3166:1981        1981   \n",
       "2      ISO 3166:1988  1988-08-15   \n",
       "3      ISO 3166:1994  1994-02-10   \n",
       "4    ISO 3166-1:1997  1997-09-25   \n",
       "\n",
       "                                            Contents  \n",
       "0                          First edition of ISO 3166  \n",
       "1                         Second edition of ISO 3166  \n",
       "2                          Third edition of ISO 3166  \n",
       "3                         Fourth edition of ISO 3166  \n",
       "4  First edition of ISO 3166-1 (ISO 3166 expanded...  "
      ]
     },
     "execution_count": 6,
     "metadata": {},
     "output_type": "execute_result"
    }
   ],
   "source": [
    "tables[2].head()"
   ]
  },
  {
   "cell_type": "code",
   "execution_count": 7,
   "id": "15828758-6635-4183-b3e4-80985ced8653",
   "metadata": {},
   "outputs": [],
   "source": [
    "tables[2].to_csv('dir_diff/dir1/version_control.csv',index=False) \n",
    "tables[2].iloc[2:].to_csv('dir_diff/dir2/version_control.csv',index=False) "
   ]
  },
  {
   "cell_type": "markdown",
   "id": "8b59f799-dca2-4f57-b357-50f533557a8c",
   "metadata": {},
   "source": [
    "create a corrupted copy of the file in one directory"
   ]
  },
  {
   "cell_type": "markdown",
   "id": "cfced4da-f725-46a9-a1ff-687749a5e4ad",
   "metadata": {},
   "source": [
    "## Directory listing"
   ]
  },
  {
   "cell_type": "code",
   "execution_count": 10,
   "id": "13c11b8a-8406-4447-b5f4-6a244d99e4f4",
   "metadata": {},
   "outputs": [],
   "source": [
    "!ls -l dir_diff/*/* > diff.txt"
   ]
  },
  {
   "cell_type": "markdown",
   "id": "0e3d43a7-e9c8-46d6-b3a8-212006fc458d",
   "metadata": {},
   "source": [
    "## Directory comparison"
   ]
  },
  {
   "cell_type": "code",
   "execution_count": 14,
   "id": "07c34ba8-ab55-4eba-82c4-38ceb7c7e8bc",
   "metadata": {},
   "outputs": [],
   "source": [
    "dir_listing=pd.read_csv('diff.txt', sep='\\s+',names=['permissions', 'something','owner','group','size','month','day','time','path'])"
   ]
  },
  {
   "cell_type": "code",
   "execution_count": 26,
   "id": "83ba5ec5-5ef8-466e-974e-d22486820c05",
   "metadata": {},
   "outputs": [],
   "source": [
    "def split_path(df):\n",
    "    return (df\n",
    "    .assign(parent_dir=df\n",
    "            .path\n",
    "            .str.split(pat='/',expand=True)[0],\n",
    "            inner_dir=df\n",
    "            .path\n",
    "            .str.split(pat='/',expand=True)[1],\n",
    "            filename=df\n",
    "            .path\n",
    "            .str.split(pat='/',expand=True)[2]\n",
    "           )\n",
    "\n",
    "    )"
   ]
  },
  {
   "cell_type": "code",
   "execution_count": 27,
   "id": "47e700b4-867e-44f8-8816-cc1a35b377de",
   "metadata": {},
   "outputs": [
    {
     "data": {
      "text/html": [
       "<div>\n",
       "<style scoped>\n",
       "    .dataframe tbody tr th:only-of-type {\n",
       "        vertical-align: middle;\n",
       "    }\n",
       "\n",
       "    .dataframe tbody tr th {\n",
       "        vertical-align: top;\n",
       "    }\n",
       "\n",
       "    .dataframe thead th {\n",
       "        text-align: right;\n",
       "    }\n",
       "</style>\n",
       "<table border=\"1\" class=\"dataframe\">\n",
       "  <thead>\n",
       "    <tr style=\"text-align: right;\">\n",
       "      <th></th>\n",
       "      <th>permissions</th>\n",
       "      <th>something</th>\n",
       "      <th>owner</th>\n",
       "      <th>group</th>\n",
       "      <th>size</th>\n",
       "      <th>month</th>\n",
       "      <th>day</th>\n",
       "      <th>time</th>\n",
       "      <th>path</th>\n",
       "      <th>parent_dir</th>\n",
       "      <th>inner_dir</th>\n",
       "      <th>filename</th>\n",
       "    </tr>\n",
       "  </thead>\n",
       "  <tbody>\n",
       "    <tr>\n",
       "      <th>0</th>\n",
       "      <td>-rw-rw-rw-</td>\n",
       "      <td>1</td>\n",
       "      <td>codespace</td>\n",
       "      <td>codespace</td>\n",
       "      <td>1120</td>\n",
       "      <td>Aug</td>\n",
       "      <td>4</td>\n",
       "      <td>19:48</td>\n",
       "      <td>dir_diff/dir1/disputed.csv</td>\n",
       "      <td>dir_diff</td>\n",
       "      <td>dir1</td>\n",
       "      <td>disputed.csv</td>\n",
       "    </tr>\n",
       "    <tr>\n",
       "      <th>1</th>\n",
       "      <td>-rw-rw-rw-</td>\n",
       "      <td>1</td>\n",
       "      <td>codespace</td>\n",
       "      <td>codespace</td>\n",
       "      <td>10391</td>\n",
       "      <td>Aug</td>\n",
       "      <td>4</td>\n",
       "      <td>19:48</td>\n",
       "      <td>dir_diff/dir1/name_code.csv</td>\n",
       "      <td>dir_diff</td>\n",
       "      <td>dir1</td>\n",
       "      <td>name_code.csv</td>\n",
       "    </tr>\n",
       "    <tr>\n",
       "      <th>2</th>\n",
       "      <td>-rw-rw-rw-</td>\n",
       "      <td>1</td>\n",
       "      <td>codespace</td>\n",
       "      <td>codespace</td>\n",
       "      <td>5175</td>\n",
       "      <td>Aug</td>\n",
       "      <td>4</td>\n",
       "      <td>19:48</td>\n",
       "      <td>dir_diff/dir1/version_control.csv</td>\n",
       "      <td>dir_diff</td>\n",
       "      <td>dir1</td>\n",
       "      <td>version_control.csv</td>\n",
       "    </tr>\n",
       "    <tr>\n",
       "      <th>3</th>\n",
       "      <td>-rw-rw-rw-</td>\n",
       "      <td>1</td>\n",
       "      <td>codespace</td>\n",
       "      <td>codespace</td>\n",
       "      <td>1120</td>\n",
       "      <td>Aug</td>\n",
       "      <td>4</td>\n",
       "      <td>19:48</td>\n",
       "      <td>dir_diff/dir2/disputed.csv</td>\n",
       "      <td>dir_diff</td>\n",
       "      <td>dir2</td>\n",
       "      <td>disputed.csv</td>\n",
       "    </tr>\n",
       "    <tr>\n",
       "      <th>4</th>\n",
       "      <td>-rw-rw-rw-</td>\n",
       "      <td>1</td>\n",
       "      <td>codespace</td>\n",
       "      <td>codespace</td>\n",
       "      <td>10391</td>\n",
       "      <td>Aug</td>\n",
       "      <td>4</td>\n",
       "      <td>19:48</td>\n",
       "      <td>dir_diff/dir2/name_code.csv</td>\n",
       "      <td>dir_diff</td>\n",
       "      <td>dir2</td>\n",
       "      <td>name_code.csv</td>\n",
       "    </tr>\n",
       "    <tr>\n",
       "      <th>5</th>\n",
       "      <td>-rw-rw-rw-</td>\n",
       "      <td>1</td>\n",
       "      <td>codespace</td>\n",
       "      <td>codespace</td>\n",
       "      <td>5084</td>\n",
       "      <td>Aug</td>\n",
       "      <td>4</td>\n",
       "      <td>19:48</td>\n",
       "      <td>dir_diff/dir2/version_control.csv</td>\n",
       "      <td>dir_diff</td>\n",
       "      <td>dir2</td>\n",
       "      <td>version_control.csv</td>\n",
       "    </tr>\n",
       "    <tr>\n",
       "      <th>6</th>\n",
       "      <td>-rw-rw-rw-</td>\n",
       "      <td>1</td>\n",
       "      <td>codespace</td>\n",
       "      <td>codespace</td>\n",
       "      <td>10391</td>\n",
       "      <td>Aug</td>\n",
       "      <td>4</td>\n",
       "      <td>19:48</td>\n",
       "      <td>dir_diff/dir2/~name_code.csv</td>\n",
       "      <td>dir_diff</td>\n",
       "      <td>dir2</td>\n",
       "      <td>~name_code.csv</td>\n",
       "    </tr>\n",
       "  </tbody>\n",
       "</table>\n",
       "</div>"
      ],
      "text/plain": [
       "  permissions  something      owner      group   size month  day   time  \\\n",
       "0  -rw-rw-rw-          1  codespace  codespace   1120   Aug    4  19:48   \n",
       "1  -rw-rw-rw-          1  codespace  codespace  10391   Aug    4  19:48   \n",
       "2  -rw-rw-rw-          1  codespace  codespace   5175   Aug    4  19:48   \n",
       "3  -rw-rw-rw-          1  codespace  codespace   1120   Aug    4  19:48   \n",
       "4  -rw-rw-rw-          1  codespace  codespace  10391   Aug    4  19:48   \n",
       "5  -rw-rw-rw-          1  codespace  codespace   5084   Aug    4  19:48   \n",
       "6  -rw-rw-rw-          1  codespace  codespace  10391   Aug    4  19:48   \n",
       "\n",
       "                                path parent_dir inner_dir             filename  \n",
       "0         dir_diff/dir1/disputed.csv   dir_diff      dir1         disputed.csv  \n",
       "1        dir_diff/dir1/name_code.csv   dir_diff      dir1        name_code.csv  \n",
       "2  dir_diff/dir1/version_control.csv   dir_diff      dir1  version_control.csv  \n",
       "3         dir_diff/dir2/disputed.csv   dir_diff      dir2         disputed.csv  \n",
       "4        dir_diff/dir2/name_code.csv   dir_diff      dir2        name_code.csv  \n",
       "5  dir_diff/dir2/version_control.csv   dir_diff      dir2  version_control.csv  \n",
       "6       dir_diff/dir2/~name_code.csv   dir_diff      dir2       ~name_code.csv  "
      ]
     },
     "execution_count": 27,
     "metadata": {},
     "output_type": "execute_result"
    }
   ],
   "source": [
    "dir_listing.pipe(split_path)"
   ]
  },
  {
   "cell_type": "code",
   "execution_count": null,
   "id": "64deec49-b5e0-4b72-a1ed-882e88aa4ca0",
   "metadata": {},
   "outputs": [],
   "source": []
  }
 ],
 "metadata": {
  "kernelspec": {
   "display_name": "Python 3 (ipykernel)",
   "language": "python",
   "name": "python3"
  },
  "language_info": {
   "codemirror_mode": {
    "name": "ipython",
    "version": 3
   },
   "file_extension": ".py",
   "mimetype": "text/x-python",
   "name": "python",
   "nbconvert_exporter": "python",
   "pygments_lexer": "ipython3",
   "version": "3.10.13"
  }
 },
 "nbformat": 4,
 "nbformat_minor": 5
}
