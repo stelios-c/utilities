{
 "cells": [
  {
   "cell_type": "code",
   "execution_count": 3,
   "id": "1b25a76d-4800-45b5-9f02-0101c3579254",
   "metadata": {
    "collapsed": true,
    "editable": true,
    "jupyter": {
     "outputs_hidden": true
    },
    "slideshow": {
     "slide_type": ""
    },
    "tags": []
   },
   "outputs": [
    {
     "name": "stdout",
     "output_type": "stream",
     "text": [
      "Collecting lxml\n",
      "  Downloading lxml-5.2.2-cp310-cp310-manylinux_2_28_x86_64.whl.metadata (3.4 kB)\n",
      "Downloading lxml-5.2.2-cp310-cp310-manylinux_2_28_x86_64.whl (5.0 MB)\n",
      "\u001b[2K   \u001b[90m━━━━━━━━━━━━━━━━━━━━━━━━━━━━━━━━━━━━━━━━\u001b[0m \u001b[32m5.0/5.0 MB\u001b[0m \u001b[31m52.4 MB/s\u001b[0m eta \u001b[36m0:00:00\u001b[0m:00:01\u001b[0m00:01\u001b[0m\n",
      "\u001b[?25hInstalling collected packages: lxml\n",
      "Successfully installed lxml-5.2.2\n",
      "\n",
      "\u001b[1m[\u001b[0m\u001b[34;49mnotice\u001b[0m\u001b[1;39;49m]\u001b[0m\u001b[39;49m A new release of pip is available: \u001b[0m\u001b[31;49m24.1.2\u001b[0m\u001b[39;49m -> \u001b[0m\u001b[32;49m24.2\u001b[0m\n",
      "\u001b[1m[\u001b[0m\u001b[34;49mnotice\u001b[0m\u001b[1;39;49m]\u001b[0m\u001b[39;49m To update, run: \u001b[0m\u001b[32;49mpython3 -m pip install --upgrade pip\u001b[0m\n",
      "Note: you may need to restart the kernel to use updated packages.\n"
     ]
    }
   ],
   "source": [
    "%pip install lxml"
   ]
  },
  {
   "cell_type": "markdown",
   "id": "c8d0ba96-e8e8-46f0-9113-48b0a37b84a5",
   "metadata": {
    "editable": true,
    "slideshow": {
     "slide_type": ""
    },
    "tags": []
   },
   "source": [
    "## create dummy data"
   ]
  },
  {
   "cell_type": "code",
   "execution_count": 1,
   "id": "18b5f44e-d1c3-4850-9dc4-d69a5d885ebd",
   "metadata": {
    "editable": true,
    "slideshow": {
     "slide_type": ""
    },
    "tags": []
   },
   "outputs": [],
   "source": [
    "import pandas as pd\n",
    "tables=pd.read_html('https://en.wikipedia.org/wiki/ISO_3166-1')"
   ]
  },
  {
   "cell_type": "code",
   "execution_count": 2,
   "id": "8bca210e-afeb-4f60-be71-c6b17296752c",
   "metadata": {
    "editable": true,
    "slideshow": {
     "slide_type": ""
    },
    "tags": []
   },
   "outputs": [
    {
     "data": {
      "text/html": [
       "<div>\n",
       "<style scoped>\n",
       "    .dataframe tbody tr th:only-of-type {\n",
       "        vertical-align: middle;\n",
       "    }\n",
       "\n",
       "    .dataframe tbody tr th {\n",
       "        vertical-align: top;\n",
       "    }\n",
       "\n",
       "    .dataframe thead th {\n",
       "        text-align: right;\n",
       "    }\n",
       "</style>\n",
       "<table border=\"1\" class=\"dataframe\">\n",
       "  <thead>\n",
       "    <tr style=\"text-align: right;\">\n",
       "      <th></th>\n",
       "      <th>Short name upper case in ISO 3166</th>\n",
       "      <th>Short name lower case in ISO 3166 Full name</th>\n",
       "      <th>Listed as independent in ISO 3166</th>\n",
       "      <th>Local short name</th>\n",
       "      <th>Dispute</th>\n",
       "      <th>Link to ISO 3166-2</th>\n",
       "    </tr>\n",
       "  </thead>\n",
       "  <tbody>\n",
       "    <tr>\n",
       "      <th>0</th>\n",
       "      <td>AFGHANISTAN</td>\n",
       "      <td>Afghanistanthe Islamic Republic of Afghanistan</td>\n",
       "      <td>Yes[6]</td>\n",
       "      <td>Afghānistān (ps) Afghānistān (fa)</td>\n",
       "      <td>Under the unrecognized government of the Islam...</td>\n",
       "      <td>ISO 3166-2:AF</td>\n",
       "    </tr>\n",
       "  </tbody>\n",
       "</table>\n",
       "</div>"
      ],
      "text/plain": [
       "  Short name upper case in ISO 3166  \\\n",
       "0                       AFGHANISTAN   \n",
       "\n",
       "      Short name lower case in ISO 3166 Full name  \\\n",
       "0  Afghanistanthe Islamic Republic of Afghanistan   \n",
       "\n",
       "  Listed as independent in ISO 3166                   Local short name  \\\n",
       "0                            Yes[6]  Afghānistān (ps) Afghānistān (fa)   \n",
       "\n",
       "                                             Dispute Link to ISO 3166-2  \n",
       "0  Under the unrecognized government of the Islam...      ISO 3166-2:AF  "
      ]
     },
     "execution_count": 2,
     "metadata": {},
     "output_type": "execute_result"
    }
   ],
   "source": [
    "tables[0].iloc[0:1]"
   ]
  },
  {
   "cell_type": "code",
   "execution_count": 3,
   "id": "b91d5b80-d17d-4b7b-8cff-e504fb5907f4",
   "metadata": {
    "editable": true,
    "slideshow": {
     "slide_type": ""
    },
    "tags": []
   },
   "outputs": [],
   "source": [
    "tables[0].to_csv('dir_diff/dir1/disputed.csv',index=False) \n",
    "tables[0].to_csv('dir_diff/dir2/disputed.csv',index=False) "
   ]
  },
  {
   "cell_type": "code",
   "execution_count": 4,
   "id": "5518e853-d3b3-4822-8f39-505fe1f6631d",
   "metadata": {
    "editable": true,
    "slideshow": {
     "slide_type": "slide"
    },
    "tags": []
   },
   "outputs": [
    {
     "data": {
      "text/html": [
       "<div>\n",
       "<style scoped>\n",
       "    .dataframe tbody tr th:only-of-type {\n",
       "        vertical-align: middle;\n",
       "    }\n",
       "\n",
       "    .dataframe tbody tr th {\n",
       "        vertical-align: top;\n",
       "    }\n",
       "\n",
       "    .dataframe thead th {\n",
       "        text-align: right;\n",
       "    }\n",
       "</style>\n",
       "<table border=\"1\" class=\"dataframe\">\n",
       "  <thead>\n",
       "    <tr style=\"text-align: right;\">\n",
       "      <th></th>\n",
       "      <th>English short name (using title case)</th>\n",
       "      <th>Alpha-2 code</th>\n",
       "      <th>Alpha-3 code</th>\n",
       "      <th>Numeric code</th>\n",
       "      <th>Link to ISO 3166-2</th>\n",
       "      <th>Independent</th>\n",
       "    </tr>\n",
       "  </thead>\n",
       "  <tbody>\n",
       "    <tr>\n",
       "      <th>0</th>\n",
       "      <td>Afghanistan[b]</td>\n",
       "      <td>AF</td>\n",
       "      <td>AFG</td>\n",
       "      <td>4</td>\n",
       "      <td>ISO 3166-2:AF</td>\n",
       "      <td>Yes</td>\n",
       "    </tr>\n",
       "  </tbody>\n",
       "</table>\n",
       "</div>"
      ],
      "text/plain": [
       "  English short name (using title case) Alpha-2 code Alpha-3 code  \\\n",
       "0                        Afghanistan[b]           AF          AFG   \n",
       "\n",
       "   Numeric code Link to ISO 3166-2 Independent  \n",
       "0             4      ISO 3166-2:AF         Yes  "
      ]
     },
     "execution_count": 4,
     "metadata": {},
     "output_type": "execute_result"
    }
   ],
   "source": [
    "tables[1].iloc[0:1]"
   ]
  },
  {
   "cell_type": "code",
   "execution_count": 5,
   "id": "286402c1-5049-4bd1-8c57-6aa14d7d8a29",
   "metadata": {
    "editable": true,
    "slideshow": {
     "slide_type": ""
    },
    "tags": []
   },
   "outputs": [],
   "source": [
    "tables[1].to_csv('dir_diff/dir1/name_code.csv',index=False) \n",
    "tables[1].to_csv('dir_diff/dir2/name_code.csv',index=False) \n",
    "tables[1].to_csv('dir_diff/dir2/~name_code.csv',index=False) #additional copy"
   ]
  },
  {
   "cell_type": "code",
   "execution_count": 6,
   "id": "ab304e33-0958-428c-9854-91290ba019f6",
   "metadata": {
    "editable": true,
    "slideshow": {
     "slide_type": ""
    },
    "tags": []
   },
   "outputs": [
    {
     "data": {
      "text/html": [
       "<div>\n",
       "<style scoped>\n",
       "    .dataframe tbody tr th:only-of-type {\n",
       "        vertical-align: middle;\n",
       "    }\n",
       "\n",
       "    .dataframe tbody tr th {\n",
       "        vertical-align: top;\n",
       "    }\n",
       "\n",
       "    .dataframe thead th {\n",
       "        text-align: right;\n",
       "    }\n",
       "</style>\n",
       "<table border=\"1\" class=\"dataframe\">\n",
       "  <thead>\n",
       "    <tr style=\"text-align: right;\">\n",
       "      <th></th>\n",
       "      <th>Edition/Newsletter</th>\n",
       "      <th>Date issued</th>\n",
       "      <th>Contents</th>\n",
       "    </tr>\n",
       "  </thead>\n",
       "  <tbody>\n",
       "    <tr>\n",
       "      <th>0</th>\n",
       "      <td>ISO 3166:1974</td>\n",
       "      <td>1974</td>\n",
       "      <td>First edition of ISO 3166</td>\n",
       "    </tr>\n",
       "  </tbody>\n",
       "</table>\n",
       "</div>"
      ],
      "text/plain": [
       "  Edition/Newsletter Date issued                   Contents\n",
       "0      ISO 3166:1974        1974  First edition of ISO 3166"
      ]
     },
     "execution_count": 6,
     "metadata": {},
     "output_type": "execute_result"
    }
   ],
   "source": [
    "tables[2].iloc[0:1]"
   ]
  },
  {
   "cell_type": "code",
   "execution_count": 7,
   "id": "15828758-6635-4183-b3e4-80985ced8653",
   "metadata": {
    "editable": true,
    "slideshow": {
     "slide_type": ""
    },
    "tags": []
   },
   "outputs": [],
   "source": [
    "tables[2].to_csv('dir_diff/dir1/version_control.csv',index=False) \n",
    "tables[2].iloc[2:].to_csv('dir_diff/dir2/version_control.csv',index=False) #corrupted copy"
   ]
  },
  {
   "cell_type": "markdown",
   "id": "0e3d43a7-e9c8-46d6-b3a8-212006fc458d",
   "metadata": {
    "editable": true,
    "slideshow": {
     "slide_type": "slide"
    },
    "tags": []
   },
   "source": [
    "## Directory comparison"
   ]
  },
  {
   "cell_type": "code",
   "execution_count": 12,
   "id": "13c11b8a-8406-4447-b5f4-6a244d99e4f4",
   "metadata": {
    "editable": true,
    "slideshow": {
     "slide_type": ""
    },
    "tags": []
   },
   "outputs": [],
   "source": [
    "!ls -l dir_diff/*/* > diff.txt\n",
    "list_of_headers=['permissions', 'hard_links','user','group','size','month','day','time','path']\n",
    "dir_listing=pd.read_csv('diff.txt', sep='\\s+',names=list_of_headers)"
   ]
  },
  {
   "cell_type": "code",
   "execution_count": 13,
   "id": "83ba5ec5-5ef8-466e-974e-d22486820c05",
   "metadata": {
    "editable": true,
    "slideshow": {
     "slide_type": ""
    },
    "tags": []
   },
   "outputs": [],
   "source": [
    "def split_path(df):\n",
    "    return (df\n",
    "            .assign(parent_dir=df\n",
    "                    .path\n",
    "                    .str.split(pat='/',expand=True)[0],\n",
    "                    inner_dir=df\n",
    "                    .path\n",
    "                    .str.split(pat='/',expand=True)[1],\n",
    "                    filename=df\n",
    "                    .path\n",
    "                    .str.split(pat='/',expand=True)[2]\n",
    "                    )\n",
    "            )"
   ]
  },
  {
   "cell_type": "code",
   "execution_count": 14,
   "id": "487812bf-75ae-437d-a8a4-e1e9c4324ee4",
   "metadata": {
    "editable": true,
    "slideshow": {
     "slide_type": ""
    },
    "tags": []
   },
   "outputs": [
    {
     "data": {
      "text/html": [
       "<div>\n",
       "<style scoped>\n",
       "    .dataframe tbody tr th:only-of-type {\n",
       "        vertical-align: middle;\n",
       "    }\n",
       "\n",
       "    .dataframe tbody tr th {\n",
       "        vertical-align: top;\n",
       "    }\n",
       "\n",
       "    .dataframe thead th {\n",
       "        text-align: right;\n",
       "    }\n",
       "</style>\n",
       "<table border=\"1\" class=\"dataframe\">\n",
       "  <thead>\n",
       "    <tr style=\"text-align: right;\">\n",
       "      <th></th>\n",
       "      <th>filename</th>\n",
       "      <th>size</th>\n",
       "    </tr>\n",
       "    <tr>\n",
       "      <th>inner_dir</th>\n",
       "      <th></th>\n",
       "      <th></th>\n",
       "    </tr>\n",
       "  </thead>\n",
       "  <tbody>\n",
       "    <tr>\n",
       "      <th>dir1</th>\n",
       "      <td>3</td>\n",
       "      <td>16686</td>\n",
       "    </tr>\n",
       "    <tr>\n",
       "      <th>dir2</th>\n",
       "      <td>4</td>\n",
       "      <td>26986</td>\n",
       "    </tr>\n",
       "  </tbody>\n",
       "</table>\n",
       "</div>"
      ],
      "text/plain": [
       "           filename   size\n",
       "inner_dir                 \n",
       "dir1              3  16686\n",
       "dir2              4  26986"
      ]
     },
     "execution_count": 14,
     "metadata": {},
     "output_type": "execute_result"
    }
   ],
   "source": [
    "dir_listing.pipe(split_path).groupby(['inner_dir']).agg({'filename':'count','size':'sum'})"
   ]
  },
  {
   "cell_type": "code",
   "execution_count": 15,
   "id": "47e700b4-867e-44f8-8816-cc1a35b377de",
   "metadata": {
    "editable": true,
    "slideshow": {
     "slide_type": "slide"
    },
    "tags": []
   },
   "outputs": [
    {
     "data": {
      "text/html": [
       "<div>\n",
       "<style scoped>\n",
       "    .dataframe tbody tr th:only-of-type {\n",
       "        vertical-align: middle;\n",
       "    }\n",
       "\n",
       "    .dataframe tbody tr th {\n",
       "        vertical-align: top;\n",
       "    }\n",
       "\n",
       "    .dataframe thead tr th {\n",
       "        text-align: left;\n",
       "    }\n",
       "\n",
       "    .dataframe thead tr:last-of-type th {\n",
       "        text-align: right;\n",
       "    }\n",
       "</style>\n",
       "<table border=\"1\" class=\"dataframe\">\n",
       "  <thead>\n",
       "    <tr>\n",
       "      <th></th>\n",
       "      <th colspan=\"2\" halign=\"left\">filename</th>\n",
       "      <th colspan=\"2\" halign=\"left\">size</th>\n",
       "    </tr>\n",
       "    <tr>\n",
       "      <th>inner_dir</th>\n",
       "      <th>dir1</th>\n",
       "      <th>dir2</th>\n",
       "      <th>dir1</th>\n",
       "      <th>dir2</th>\n",
       "    </tr>\n",
       "    <tr>\n",
       "      <th>filename</th>\n",
       "      <th></th>\n",
       "      <th></th>\n",
       "      <th></th>\n",
       "      <th></th>\n",
       "    </tr>\n",
       "  </thead>\n",
       "  <tbody>\n",
       "    <tr>\n",
       "      <th>disputed.csv</th>\n",
       "      <td>1.0</td>\n",
       "      <td>1.0</td>\n",
       "      <td>1120.0</td>\n",
       "      <td>1120.0</td>\n",
       "    </tr>\n",
       "    <tr>\n",
       "      <th>name_code.csv</th>\n",
       "      <td>1.0</td>\n",
       "      <td>1.0</td>\n",
       "      <td>10391.0</td>\n",
       "      <td>10391.0</td>\n",
       "    </tr>\n",
       "    <tr>\n",
       "      <th>version_control.csv</th>\n",
       "      <td>1.0</td>\n",
       "      <td>1.0</td>\n",
       "      <td>5175.0</td>\n",
       "      <td>5084.0</td>\n",
       "    </tr>\n",
       "    <tr>\n",
       "      <th>~name_code.csv</th>\n",
       "      <td>NaN</td>\n",
       "      <td>1.0</td>\n",
       "      <td>NaN</td>\n",
       "      <td>10391.0</td>\n",
       "    </tr>\n",
       "  </tbody>\n",
       "</table>\n",
       "</div>"
      ],
      "text/plain": [
       "                    filename          size         \n",
       "inner_dir               dir1 dir2     dir1     dir2\n",
       "filename                                           \n",
       "disputed.csv             1.0  1.0   1120.0   1120.0\n",
       "name_code.csv            1.0  1.0  10391.0  10391.0\n",
       "version_control.csv      1.0  1.0   5175.0   5084.0\n",
       "~name_code.csv           NaN  1.0      NaN  10391.0"
      ]
     },
     "execution_count": 15,
     "metadata": {},
     "output_type": "execute_result"
    }
   ],
   "source": [
    "(dir_listing\n",
    " .pipe(split_path)\n",
    " .groupby(['filename','inner_dir'])\n",
    " .agg({'filename':'count','size':'sum'}) # Identify additional file in dir2, inconsistent size\n",
    " .unstack()\n",
    ")"
   ]
  },
  {
   "cell_type": "code",
   "execution_count": null,
   "id": "e8e672f3-f6ee-44db-873f-5eca9f93c94b",
   "metadata": {},
   "outputs": [],
   "source": []
  }
 ],
 "metadata": {
  "kernelspec": {
   "display_name": "Python 3 (ipykernel)",
   "language": "python",
   "name": "python3"
  },
  "language_info": {
   "codemirror_mode": {
    "name": "ipython",
    "version": 3
   },
   "file_extension": ".py",
   "mimetype": "text/x-python",
   "name": "python",
   "nbconvert_exporter": "python",
   "pygments_lexer": "ipython3",
   "version": "3.10.13"
  }
 },
 "nbformat": 4,
 "nbformat_minor": 5
}
